{
 "cells": [
  {
   "cell_type": "code",
   "execution_count": 2,
   "id": "e6050414-ad4c-46d3-a496-bcabfc24ca2b",
   "metadata": {},
   "outputs": [],
   "source": [
    "import os\n",
    "os.chdir(\"C:\\\\Users\\\\ksko\\\\Desktop\\\\work\\\\\")\n",
    "import warnings\n",
    "import matplotlib.pyplot as plt\n",
    "warnings.filterwarnings(action='ignore')\n",
    "import pandas as pd"
   ]
  },
  {
   "cell_type": "markdown",
   "id": "461e7c5f-d419-4721-8e19-09b849ae5a6e",
   "metadata": {
    "tags": []
   },
   "source": [
    "---\n",
    "# 여자 딥페이크"
   ]
  },
  {
   "cell_type": "code",
   "execution_count": 3,
   "id": "4dfeab77-689a-44a7-a4d5-2cb439fdb598",
   "metadata": {},
   "outputs": [],
   "source": [
    "scenario = ['인사', '시험공부01','시험공부02','면접01','사랑01','전화01','비지니스01','대화와응답01',\n",
    "            '의견파악01','관계01','todo','num1','num2']"
   ]
  },
  {
   "cell_type": "code",
   "execution_count": 4,
   "id": "773fe019-e85e-42ef-bef7-14b07491ad44",
   "metadata": {},
   "outputs": [
    {
     "name": "stdout",
     "output_type": "stream",
     "text": [
      "여자 딥페이크\n",
      "인사의 유사도 평균은 0.26, 표준편차는 0.21 입니다.\n",
      "시험공부01의 유사도 평균은 0.38, 표준편차는 0.15 입니다.\n",
      "시험공부02의 유사도 평균은 0.33, 표준편차는 0.25 입니다.\n",
      "면접01의 유사도 평균은 0.32, 표준편차는 0.25 입니다.\n",
      "사랑01의 유사도 평균은 0.33, 표준편차는 0.25 입니다.\n",
      "전화01의 유사도 평균은 0.33, 표준편차는 0.26 입니다.\n",
      "비지니스01의 유사도 평균은 0.33, 표준편차는 0.25 입니다.\n",
      "대화와응답01의 유사도 평균은 0.17, 표준편차는 0.19 입니다.\n",
      "의견파악01의 유사도 평균은 0.33, 표준편차는 0.26 입니다.\n",
      "관계01의 유사도 평균은 0.28, 표준편차는 0.24 입니다.\n",
      "todo의 유사도 평균은 0.34, 표준편차는 0.25 입니다.\n",
      "num1의 유사도 평균은 0.34, 표준편차는 0.25 입니다.\n",
      "num2의 유사도 평균은 0.28, 표준편차는 0.25 입니다.\n"
     ]
    }
   ],
   "source": [
    "print(\"여자 딥페이크\")\n",
    "#deep_woman = pd.DataFrame({'평균': [], '표준편차': []})\n",
    "for i in range(len(scenario)):\n",
    "    result = pd.read_csv('deep_w_' + scenario[i] + '.csv', header = None)\n",
    "    avg = round(result.mean()[0],2)\n",
    "    std = round(result.std()[0],2)\n",
    "    #deep_woman = deep_woman.append({'평균': avg, '표준편차': std}, ignore_index=True)\n",
    "    print(f\"{scenario[i]}의 유사도 평균은 {avg}, 표준편차는 {std} 입니다.\")"
   ]
  },
  {
   "cell_type": "markdown",
   "id": "cbc6a2f3-cda1-4cdc-8994-27133ea7c5a0",
   "metadata": {
    "tags": []
   },
   "source": [
    "---\n",
    "# 남자 딥페이크"
   ]
  },
  {
   "cell_type": "code",
   "execution_count": 5,
   "id": "780aac07-2abb-40ab-b880-43a8d1d2a598",
   "metadata": {},
   "outputs": [],
   "source": [
    "scenario = ['인사', '시험공부01','시험공부02','면접01','사랑01','전화01','비지니스01','대화와응답01',\n",
    "            '의견파악01','관계01','할일','숫자정보01','숫자정보02']"
   ]
  },
  {
   "cell_type": "code",
   "execution_count": 6,
   "id": "9c78182e-dbbe-40be-988e-7e3c70568862",
   "metadata": {},
   "outputs": [
    {
     "name": "stdout",
     "output_type": "stream",
     "text": [
      "남자 딥페이크\n",
      "인사의 유사도 평균은 0.37, 표준편차는 0.14 입니다.\n",
      "시험공부01의 유사도 평균은 0.27, 표준편차는 0.13 입니다.\n",
      "시험공부02의 유사도 평균은 0.3, 표준편차는 0.15 입니다.\n",
      "면접01의 유사도 평균은 0.3, 표준편차는 0.2 입니다.\n",
      "사랑01의 유사도 평균은 0.27, 표준편차는 0.15 입니다.\n",
      "전화01의 유사도 평균은 0.28, 표준편차는 0.15 입니다.\n",
      "비지니스01의 유사도 평균은 0.26, 표준편차는 0.16 입니다.\n",
      "대화와응답01의 유사도 평균은 0.29, 표준편차는 0.18 입니다.\n",
      "의견파악01의 유사도 평균은 0.35, 표준편차는 0.14 입니다.\n",
      "관계01의 유사도 평균은 0.31, 표준편차는 0.16 입니다.\n",
      "할일의 유사도 평균은 0.39, 표준편차는 0.13 입니다.\n",
      "숫자정보01의 유사도 평균은 0.32, 표준편차는 0.15 입니다.\n",
      "숫자정보02의 유사도 평균은 0.44, 표준편차는 0.17 입니다.\n"
     ]
    }
   ],
   "source": [
    "print(\"남자 딥페이크\")\n",
    "#deep_man = pd.DataFrame({'평균': [], '표준편차': []})\n",
    "for i in range(len(scenario)):\n",
    "    result = pd.read_csv('deep_m_' + scenario[i] + '.csv', header = None)\n",
    "    avg = round(result.mean()[0],2)\n",
    "    std = round(result.std()[0],2)\n",
    "    #deep_man = deep_man.append({'평균': avg, '표준편차': std}, ignore_index=True)\n",
    "    print(f\"{scenario[i]}의 유사도 평균은 {avg}, 표준편차는 {std} 입니다.\")"
   ]
  },
  {
   "cell_type": "markdown",
   "id": "564a12ed-d305-4624-9d4b-150c5bcb45ce",
   "metadata": {
    "tags": []
   },
   "source": [
    "---\n",
    "# 여자 원본"
   ]
  },
  {
   "cell_type": "code",
   "execution_count": 15,
   "id": "9d4acdd3-7a27-4a1d-bc0e-dbdac26985b1",
   "metadata": {},
   "outputs": [],
   "source": [
    "scenario = ['인사', '시험공부01','시험공부02','면접01','사랑01','전화01','비즈니스01','대화와응답01',\n",
    "            '의견파악01','관계01','할일','숫자정보01','숫자정보02']"
   ]
  },
  {
   "cell_type": "code",
   "execution_count": 16,
   "id": "53a8d2ed-f0bb-48cd-9728-0b0a7199dfc9",
   "metadata": {},
   "outputs": [
    {
     "name": "stdout",
     "output_type": "stream",
     "text": [
      "여자 원본\n",
      "인사의 유사도 평균은 0.46, 표준편차는 0.14 입니다.\n",
      "시험공부01의 유사도 평균은 0.46, 표준편차는 0.1 입니다.\n",
      "시험공부02의 유사도 평균은 0.54, 표준편차는 0.17 입니다.\n",
      "면접01의 유사도 평균은 0.56, 표준편차는 0.15 입니다.\n",
      "사랑01의 유사도 평균은 0.54, 표준편차는 0.15 입니다.\n",
      "전화01의 유사도 평균은 0.49, 표준편차는 0.08 입니다.\n",
      "비즈니스01의 유사도 평균은 0.53, 표준편차는 0.16 입니다.\n",
      "대화와응답01의 유사도 평균은 0.49, 표준편차는 0.19 입니다.\n",
      "의견파악01의 유사도 평균은 0.58, 표준편차는 0.12 입니다.\n",
      "관계01의 유사도 평균은 0.56, 표준편차는 0.14 입니다.\n",
      "할일의 유사도 평균은 0.56, 표준편차는 0.15 입니다.\n",
      "숫자정보01의 유사도 평균은 0.58, 표준편차는 0.13 입니다.\n",
      "숫자정보02의 유사도 평균은 0.57, 표준편차는 0.15 입니다.\n"
     ]
    }
   ],
   "source": [
    "print(\"여자 원본\")\n",
    "#deep_woman = pd.DataFrame({'평균': [], '표준편차': []})\n",
    "for i in range(len(scenario)):\n",
    "    result = pd.read_csv('w_' + scenario[i] + '.csv', header = None)\n",
    "    avg = round(result.mean()[0],2)\n",
    "    std = round(result.std()[0],2)\n",
    "    #deep_woman.append({'평균': avg, '표준편차': std}, ignore_index=True)\n",
    "    print(f\"{scenario[i]}의 유사도 평균은 {avg}, 표준편차는 {std} 입니다.\")"
   ]
  },
  {
   "cell_type": "markdown",
   "id": "a142e722-e147-4b8b-ae7b-26f0f0ee7601",
   "metadata": {
    "tags": []
   },
   "source": [
    "---\n",
    "# 남자 원본"
   ]
  },
  {
   "cell_type": "code",
   "execution_count": 9,
   "id": "c5cd8f14-ac9c-46eb-8744-95b195a6f0bf",
   "metadata": {},
   "outputs": [],
   "source": [
    "scenario = ['인사', '시험공부01','시험공부02','면접01','사랑01','전화01','비즈니스01','대화와응답01',\n",
    "            '의견파악01','관계01','할일','숫자정보01','숫자정보02']"
   ]
  },
  {
   "cell_type": "code",
   "execution_count": 10,
   "id": "5f1d7a26-7137-45a1-aa2d-a226bf38ed14",
   "metadata": {},
   "outputs": [
    {
     "name": "stdout",
     "output_type": "stream",
     "text": [
      "남자 원본\n",
      "인사의 유사도 평균은 0.5, 표준편차는 0.09 입니다.\n",
      "시험공부01의 유사도 평균은 0.53, 표준편차는 0.13 입니다.\n",
      "시험공부02의 유사도 평균은 0.52, 표준편차는 0.14 입니다.\n",
      "면접01의 유사도 평균은 0.49, 표준편차는 0.1 입니다.\n",
      "사랑01의 유사도 평균은 0.48, 표준편차는 0.09 입니다.\n",
      "전화01의 유사도 평균은 0.48, 표준편차는 0.1 입니다.\n",
      "비즈니스01의 유사도 평균은 0.46, 표준편차는 0.08 입니다.\n",
      "대화와응답01의 유사도 평균은 0.45, 표준편차는 0.08 입니다.\n",
      "의견파악01의 유사도 평균은 0.46, 표준편차는 0.11 입니다.\n",
      "관계01의 유사도 평균은 0.47, 표준편차는 0.1 입니다.\n",
      "할일의 유사도 평균은 0.46, 표준편차는 0.12 입니다.\n",
      "숫자정보01의 유사도 평균은 0.47, 표준편차는 0.09 입니다.\n",
      "숫자정보02의 유사도 평균은 0.51, 표준편차는 0.14 입니다.\n"
     ]
    }
   ],
   "source": [
    "print(\"남자 원본\")\n",
    "#deep_man = pd.DataFrame({'평균': [], '표준편차': []})\n",
    "for i in range(len(scenario)):\n",
    "    result = pd.read_csv('m_' + scenario[i] + '.csv', header = None)\n",
    "    avg = round(result.mean()[0],2)\n",
    "    std = round(result.std()[0],2)\n",
    "#    deep_man = deep_man.append({'평균': avg, '표준편차': std}, ignore_index=True)\n",
    "    print(f\"{scenario[i]}의 유사도 평균은 {avg}, 표준편차는 {std} 입니다.\")"
   ]
  },
  {
   "cell_type": "code",
   "execution_count": null,
   "id": "f37e2786-2127-49db-94e7-0e8c96bd2f1f",
   "metadata": {},
   "outputs": [],
   "source": []
  },
  {
   "cell_type": "code",
   "execution_count": null,
   "id": "a1b518eb-5fa7-4649-8a0f-faf8e44f705f",
   "metadata": {},
   "outputs": [],
   "source": []
  }
 ],
 "metadata": {
  "kernelspec": {
   "display_name": "Python 3 (ipykernel)",
   "language": "python",
   "name": "python3"
  },
  "language_info": {
   "codemirror_mode": {
    "name": "ipython",
    "version": 3
   },
   "file_extension": ".py",
   "mimetype": "text/x-python",
   "name": "python",
   "nbconvert_exporter": "python",
   "pygments_lexer": "ipython3",
   "version": "3.8.13"
  }
 },
 "nbformat": 4,
 "nbformat_minor": 5
}
